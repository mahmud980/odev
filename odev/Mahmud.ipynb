{
  "nbformat": 4,
  "nbformat_minor": 0,
  "metadata": {
    "colab": {
      "name": "Mahmud.ipynb",
      "provenance": [],
      "collapsed_sections": []
    },
    "kernelspec": {
      "name": "python3",
      "display_name": "Python 3"
    },
    "language_info": {
      "name": "python"
    }
  },
  "cells": [
    {
      "cell_type": "code",
      "execution_count": 78,
      "metadata": {
        "id": "EDa1Vqr8ijP5"
      },
      "outputs": [],
      "source": [
        "import pandas as pd\n",
        "#verileri yukle \n",
        "df=pd.read_csv(\"data_456.csv\")\n",
        "#indix olan sutunu sildik ilk sutun\n",
        "df=df.drop([\"Unnamed: 0\"],axis=1)"
      ]
    },
    {
      "cell_type": "code",
      "source": [
        "from sklearn.model_selection import train_test_split\n",
        "# verileri ikiye bolduk ilk bes sutun ozellik x olarak son sutun ise y olarak sonuc \n",
        "x=df.drop([\"cikis\"],axis=1)\n",
        "y=df[\"cikis\"]\n",
        "# verileri ikiye boldub %67 olani egitim icin kullandik deger 33 denetim icin \n",
        "x_train, x_test, y_train, y_test = train_test_split(x, y, test_size=0.33, random_state=42)\n"
      ],
      "metadata": {
        "id": "dvFwjZCBk7v_"
      },
      "execution_count": 79,
      "outputs": []
    },
    {
      "cell_type": "code",
      "source": [
        "print(\"train_data = \",x_train.shape)\n",
        "print(\"train_targets = \",x_test.shape)\n",
        "print(\"test_data = \",y_train.shape)\n",
        "print(\"test_targets = \",y_test.shape)\n",
        "# shape goster"
      ],
      "metadata": {
        "colab": {
          "base_uri": "https://localhost:8080/"
        },
        "id": "uiE23WYVmyhb",
        "outputId": "fd186010-330c-40ad-f5fd-878b0f19523b"
      },
      "execution_count": 80,
      "outputs": [
        {
          "output_type": "stream",
          "name": "stdout",
          "text": [
            "train_data =  (84, 5)\n",
            "train_targets =  (42, 5)\n",
            "test_data =  (84,)\n",
            "test_targets =  (42,)\n"
          ]
        }
      ]
    },
    {
      "cell_type": "code",
      "source": [
        "from sklearn.svm import SVC\n",
        "from sklearn.metrics import confusion_matrix, classification_report\n",
        "import numpy as np\n",
        "\n",
        "#svm modeline egitim verdim  iki sinif arasida siniflandirma yapmak icin \n",
        "classifier = SVC(kernel='linear')\n",
        "classifier.fit(x_train, y_train)\n",
        "# x denetim icin bana tahmin et \n",
        "Y_pred = classifier.predict(x_test)\n",
        "# dogrulama orani hesaplamak icin \n",
        "cm = confusion_matrix(y_test, Y_pred)\n",
        "accuracy = float(cm.diagonal().sum()) / len(y_test)\n",
        "\n",
        "print(\"\\nsvm cozunurlugu verilen veri setine gore dogrulama :  \", accuracy*100,\"%\")"
      ],
      "metadata": {
        "colab": {
          "base_uri": "https://localhost:8080/"
        },
        "id": "7cmnaYsllSne",
        "outputId": "d2420f12-7524-4299-bc83-ace2636374b9"
      },
      "execution_count": 83,
      "outputs": [
        {
          "output_type": "stream",
          "name": "stdout",
          "text": [
            "\n",
            "svm cozunurlugu verilen veri setine gore dogrulama :   100.0 %\n"
          ]
        }
      ]
    },
    {
      "cell_type": "code",
      "source": [
        "import random\n",
        "import warnings\n",
        "warnings.filterwarnings('ignore')\n",
        "# x ve y yi datafreem nupmy data tipine cevir\n",
        "x_numpy=np.array(x)\n",
        "y_numpy=np.array(y)\n",
        "# rasgele 5 satir ol ve sonuc tahmini bana ver\n",
        "for i in range(5):\n",
        "  ras = random.randint(0,df.shape[0])\n",
        "  pre=classifier.predict(np.reshape(x_numpy[ras], (1,) + x_numpy[ras].shape))\n",
        "  print(\"sayi sahip olan veriyi \",ras,\" : ve modeli sonuc tahmini \", int(pre),\" gecek sonuc ile \",y_numpy[ras],\" dogru oldugunu gorebiliriz\")"
      ],
      "metadata": {
        "colab": {
          "base_uri": "https://localhost:8080/"
        },
        "id": "vh64iX9RnR1L",
        "outputId": "1b050665-1798-42ec-96c1-879a2794e76b"
      },
      "execution_count": 82,
      "outputs": [
        {
          "output_type": "stream",
          "name": "stdout",
          "text": [
            "sayi sahip olan veriyi  72  : ve modeli sonuc tahmini  0  gecek sonuc ile  0  dogru oldugunu gorebiliriz\n",
            "sayi sahip olan veriyi  50  : ve modeli sonuc tahmini  0  gecek sonuc ile  0  dogru oldugunu gorebiliriz\n",
            "sayi sahip olan veriyi  16  : ve modeli sonuc tahmini  1  gecek sonuc ile  1  dogru oldugunu gorebiliriz\n",
            "sayi sahip olan veriyi  105  : ve modeli sonuc tahmini  1  gecek sonuc ile  1  dogru oldugunu gorebiliriz\n",
            "sayi sahip olan veriyi  5  : ve modeli sonuc tahmini  0  gecek sonuc ile  0  dogru oldugunu gorebiliriz\n"
          ]
        }
      ]
    }
  ]
}